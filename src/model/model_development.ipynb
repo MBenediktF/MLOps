{
 "cells": [
  {
   "cell_type": "markdown",
   "metadata": {},
   "source": [
    "# Notebook for model development\n",
    "This notebook should be used to develop the model submodules locally. Note, that model relevant changes have to be made in the model subclasses. Additional code in this document is only used to get a better understanding of the dataflow and debug some outputs."
   ]
  },
  {
   "cell_type": "markdown",
   "metadata": {},
   "source": [
    "## 1: Set up environment\n",
    "### Install dependencies\n",
    "This will use the automation `install_dependencies.sh` in order to install necessary packages. Additional packages for development can be installed afterwards."
   ]
  },
  {
   "cell_type": "code",
   "execution_count": 1,
   "metadata": {},
   "outputs": [
    {
     "name": "stdout",
     "output_type": "stream",
     "text": [
      "Requirement already satisfied: numpy in /opt/homebrew/lib/python3.11/site-packages (from -r requirements.txt (line 1)) (1.26.4)\n",
      "Requirement already satisfied: pandas in /opt/homebrew/lib/python3.11/site-packages (from -r requirements.txt (line 2)) (2.2.3)\n",
      "Requirement already satisfied: mlflow in /opt/homebrew/lib/python3.11/site-packages (from -r requirements.txt (line 3)) (2.17.0)\n",
      "Requirement already satisfied: flask in /opt/homebrew/lib/python3.11/site-packages (from -r requirements.txt (line 4)) (3.0.3)\n",
      "Requirement already satisfied: boto3 in /opt/homebrew/lib/python3.11/site-packages (from -r requirements.txt (line 5)) (1.35.36)\n",
      "Requirement already satisfied: opencv-python in /opt/homebrew/lib/python3.11/site-packages (from -r requirements.txt (line 6)) (4.9.0.80)\n",
      "Requirement already satisfied: python-dotenv in /opt/homebrew/lib/python3.11/site-packages (from -r requirements.txt (line 7)) (1.0.1)\n",
      "Requirement already satisfied: tensorflow in /opt/homebrew/lib/python3.11/site-packages (from -r requirements.txt (line 8)) (2.16.2)\n",
      "Requirement already satisfied: influxdb-client in /opt/homebrew/lib/python3.11/site-packages (from -r requirements.txt (line 9)) (1.48.0)\n",
      "Requirement already satisfied: mysql-connector-python in /opt/homebrew/lib/python3.11/site-packages (from -r requirements.txt (line 10)) (9.2.0)\n",
      "Requirement already satisfied: flask-cors in /opt/homebrew/lib/python3.11/site-packages (from -r requirements.txt (line 11)) (5.0.0)\n",
      "Requirement already satisfied: python-dateutil>=2.8.2 in /Users/benediktfassian/Library/Python/3.11/lib/python/site-packages (from pandas->-r requirements.txt (line 2)) (2.9.0.post0)\n",
      "Requirement already satisfied: pytz>=2020.1 in /opt/homebrew/lib/python3.11/site-packages (from pandas->-r requirements.txt (line 2)) (2024.2)\n",
      "Requirement already satisfied: tzdata>=2022.7 in /opt/homebrew/lib/python3.11/site-packages (from pandas->-r requirements.txt (line 2)) (2024.2)\n",
      "Requirement already satisfied: mlflow-skinny==2.17.0 in /opt/homebrew/lib/python3.11/site-packages (from mlflow->-r requirements.txt (line 3)) (2.17.0)\n",
      "Requirement already satisfied: alembic!=1.10.0,<2 in /opt/homebrew/lib/python3.11/site-packages (from mlflow->-r requirements.txt (line 3)) (1.13.3)\n",
      "Requirement already satisfied: docker<8,>=4.0.0 in /opt/homebrew/lib/python3.11/site-packages (from mlflow->-r requirements.txt (line 3)) (7.1.0)\n",
      "Requirement already satisfied: graphene<4 in /opt/homebrew/lib/python3.11/site-packages (from mlflow->-r requirements.txt (line 3)) (3.4)\n",
      "Requirement already satisfied: markdown<4,>=3.3 in /opt/homebrew/lib/python3.11/site-packages (from mlflow->-r requirements.txt (line 3)) (3.6)\n",
      "Requirement already satisfied: matplotlib<4 in /opt/homebrew/lib/python3.11/site-packages (from mlflow->-r requirements.txt (line 3)) (3.8.4)\n",
      "Requirement already satisfied: pyarrow<18,>=4.0.0 in /opt/homebrew/lib/python3.11/site-packages (from mlflow->-r requirements.txt (line 3)) (17.0.0)\n",
      "Requirement already satisfied: scikit-learn<2 in /opt/homebrew/lib/python3.11/site-packages (from mlflow->-r requirements.txt (line 3)) (1.4.2)\n",
      "Requirement already satisfied: scipy<2 in /opt/homebrew/lib/python3.11/site-packages (from mlflow->-r requirements.txt (line 3)) (1.13.0)\n",
      "Requirement already satisfied: sqlalchemy<3,>=1.4.0 in /opt/homebrew/lib/python3.11/site-packages (from mlflow->-r requirements.txt (line 3)) (2.0.36)\n",
      "Requirement already satisfied: Jinja2<4,>=2.11 in /Users/benediktfassian/Library/Python/3.11/lib/python/site-packages (from mlflow->-r requirements.txt (line 3)) (3.1.4)\n",
      "Requirement already satisfied: gunicorn<24 in /opt/homebrew/lib/python3.11/site-packages (from mlflow->-r requirements.txt (line 3)) (23.0.0)\n",
      "Requirement already satisfied: cachetools<6,>=5.0.0 in /opt/homebrew/lib/python3.11/site-packages (from mlflow-skinny==2.17.0->mlflow->-r requirements.txt (line 3)) (5.5.0)\n",
      "Requirement already satisfied: click<9,>=7.0 in /opt/homebrew/lib/python3.11/site-packages (from mlflow-skinny==2.17.0->mlflow->-r requirements.txt (line 3)) (8.1.7)\n",
      "Requirement already satisfied: cloudpickle<4 in /opt/homebrew/lib/python3.11/site-packages (from mlflow-skinny==2.17.0->mlflow->-r requirements.txt (line 3)) (3.1.0)\n",
      "Requirement already satisfied: databricks-sdk<1,>=0.20.0 in /opt/homebrew/lib/python3.11/site-packages (from mlflow-skinny==2.17.0->mlflow->-r requirements.txt (line 3)) (0.36.0)\n",
      "Requirement already satisfied: gitpython<4,>=3.1.9 in /opt/homebrew/lib/python3.11/site-packages (from mlflow-skinny==2.17.0->mlflow->-r requirements.txt (line 3)) (3.1.43)\n",
      "Requirement already satisfied: importlib-metadata!=4.7.0,<9,>=3.7.0 in /opt/homebrew/lib/python3.11/site-packages (from mlflow-skinny==2.17.0->mlflow->-r requirements.txt (line 3)) (8.4.0)\n",
      "Requirement already satisfied: opentelemetry-api<3,>=1.9.0 in /opt/homebrew/lib/python3.11/site-packages (from mlflow-skinny==2.17.0->mlflow->-r requirements.txt (line 3)) (1.27.0)\n",
      "Requirement already satisfied: opentelemetry-sdk<3,>=1.9.0 in /opt/homebrew/lib/python3.11/site-packages (from mlflow-skinny==2.17.0->mlflow->-r requirements.txt (line 3)) (1.27.0)\n",
      "Requirement already satisfied: packaging<25 in /Users/benediktfassian/Library/Python/3.11/lib/python/site-packages (from mlflow-skinny==2.17.0->mlflow->-r requirements.txt (line 3)) (24.0)\n",
      "Requirement already satisfied: protobuf<6,>=3.12.0 in /opt/homebrew/lib/python3.11/site-packages (from mlflow-skinny==2.17.0->mlflow->-r requirements.txt (line 3)) (4.25.3)\n",
      "Requirement already satisfied: pyyaml<7,>=5.1 in /Users/benediktfassian/Library/Python/3.11/lib/python/site-packages (from mlflow-skinny==2.17.0->mlflow->-r requirements.txt (line 3)) (6.0.1)\n",
      "Requirement already satisfied: requests<3,>=2.17.3 in /opt/homebrew/lib/python3.11/site-packages (from mlflow-skinny==2.17.0->mlflow->-r requirements.txt (line 3)) (2.31.0)\n",
      "Requirement already satisfied: sqlparse<1,>=0.4.0 in /opt/homebrew/lib/python3.11/site-packages (from mlflow-skinny==2.17.0->mlflow->-r requirements.txt (line 3)) (0.5.1)\n",
      "Requirement already satisfied: Werkzeug>=3.0.0 in /opt/homebrew/lib/python3.11/site-packages (from flask->-r requirements.txt (line 4)) (3.0.3)\n",
      "Requirement already satisfied: itsdangerous>=2.1.2 in /opt/homebrew/lib/python3.11/site-packages (from flask->-r requirements.txt (line 4)) (2.2.0)\n",
      "Requirement already satisfied: blinker>=1.6.2 in /opt/homebrew/lib/python3.11/site-packages (from flask->-r requirements.txt (line 4)) (1.8.2)\n",
      "Requirement already satisfied: botocore<1.36.0,>=1.35.36 in /opt/homebrew/lib/python3.11/site-packages (from boto3->-r requirements.txt (line 5)) (1.35.36)\n",
      "Requirement already satisfied: jmespath<2.0.0,>=0.7.1 in /opt/homebrew/lib/python3.11/site-packages (from boto3->-r requirements.txt (line 5)) (1.0.1)\n",
      "Requirement already satisfied: s3transfer<0.11.0,>=0.10.0 in /opt/homebrew/lib/python3.11/site-packages (from boto3->-r requirements.txt (line 5)) (0.10.3)\n",
      "Requirement already satisfied: absl-py>=1.0.0 in /opt/homebrew/lib/python3.11/site-packages (from tensorflow->-r requirements.txt (line 8)) (2.1.0)\n",
      "Requirement already satisfied: astunparse>=1.6.0 in /opt/homebrew/lib/python3.11/site-packages (from tensorflow->-r requirements.txt (line 8)) (1.6.3)\n",
      "Requirement already satisfied: flatbuffers>=23.5.26 in /opt/homebrew/lib/python3.11/site-packages (from tensorflow->-r requirements.txt (line 8)) (24.3.25)\n",
      "Requirement already satisfied: gast!=0.5.0,!=0.5.1,!=0.5.2,>=0.2.1 in /opt/homebrew/lib/python3.11/site-packages (from tensorflow->-r requirements.txt (line 8)) (0.5.4)\n",
      "Requirement already satisfied: google-pasta>=0.1.1 in /opt/homebrew/lib/python3.11/site-packages (from tensorflow->-r requirements.txt (line 8)) (0.2.0)\n",
      "Requirement already satisfied: h5py>=3.10.0 in /opt/homebrew/lib/python3.11/site-packages (from tensorflow->-r requirements.txt (line 8)) (3.11.0)\n",
      "Requirement already satisfied: libclang>=13.0.0 in /opt/homebrew/lib/python3.11/site-packages (from tensorflow->-r requirements.txt (line 8)) (18.1.1)\n",
      "Requirement already satisfied: ml-dtypes~=0.3.1 in /opt/homebrew/lib/python3.11/site-packages (from tensorflow->-r requirements.txt (line 8)) (0.3.2)\n",
      "Requirement already satisfied: opt-einsum>=2.3.2 in /opt/homebrew/lib/python3.11/site-packages (from tensorflow->-r requirements.txt (line 8)) (3.3.0)\n",
      "Requirement already satisfied: setuptools in /opt/homebrew/lib/python3.11/site-packages (from tensorflow->-r requirements.txt (line 8)) (70.3.0)\n",
      "Requirement already satisfied: six>=1.12.0 in /Users/benediktfassian/Library/Python/3.11/lib/python/site-packages (from tensorflow->-r requirements.txt (line 8)) (1.16.0)\n",
      "Requirement already satisfied: termcolor>=1.1.0 in /opt/homebrew/lib/python3.11/site-packages (from tensorflow->-r requirements.txt (line 8)) (2.4.0)\n",
      "Requirement already satisfied: typing-extensions>=3.6.6 in /Users/benediktfassian/Library/Python/3.11/lib/python/site-packages (from tensorflow->-r requirements.txt (line 8)) (4.11.0)\n",
      "Requirement already satisfied: wrapt>=1.11.0 in /opt/homebrew/lib/python3.11/site-packages (from tensorflow->-r requirements.txt (line 8)) (1.16.0)\n",
      "Requirement already satisfied: grpcio<2.0,>=1.24.3 in /opt/homebrew/lib/python3.11/site-packages (from tensorflow->-r requirements.txt (line 8)) (1.63.0)\n",
      "Requirement already satisfied: tensorboard<2.17,>=2.16 in /opt/homebrew/lib/python3.11/site-packages (from tensorflow->-r requirements.txt (line 8)) (2.16.2)\n",
      "Requirement already satisfied: keras>=3.0.0 in /opt/homebrew/lib/python3.11/site-packages (from tensorflow->-r requirements.txt (line 8)) (3.3.3)\n",
      "Requirement already satisfied: tensorflow-io-gcs-filesystem>=0.23.1 in /opt/homebrew/lib/python3.11/site-packages (from tensorflow->-r requirements.txt (line 8)) (0.37.0)\n",
      "Requirement already satisfied: reactivex>=4.0.4 in /opt/homebrew/lib/python3.11/site-packages (from influxdb-client->-r requirements.txt (line 9)) (4.0.4)\n",
      "Requirement already satisfied: certifi>=14.05.14 in /opt/homebrew/lib/python3.11/site-packages (from influxdb-client->-r requirements.txt (line 9)) (2024.7.4)\n",
      "Requirement already satisfied: urllib3>=1.26.0 in /opt/homebrew/lib/python3.11/site-packages (from influxdb-client->-r requirements.txt (line 9)) (2.2.1)\n",
      "Requirement already satisfied: Mako in /opt/homebrew/lib/python3.11/site-packages (from alembic!=1.10.0,<2->mlflow->-r requirements.txt (line 3)) (1.3.6)\n",
      "Requirement already satisfied: wheel<1.0,>=0.23.0 in /opt/homebrew/lib/python3.11/site-packages (from astunparse>=1.6.0->tensorflow->-r requirements.txt (line 8)) (0.43.0)\n",
      "Requirement already satisfied: graphql-core<3.3,>=3.1 in /opt/homebrew/lib/python3.11/site-packages (from graphene<4->mlflow->-r requirements.txt (line 3)) (3.2.5)\n",
      "Requirement already satisfied: graphql-relay<3.3,>=3.1 in /opt/homebrew/lib/python3.11/site-packages (from graphene<4->mlflow->-r requirements.txt (line 3)) (3.2.0)\n",
      "Requirement already satisfied: MarkupSafe>=2.0 in /opt/homebrew/lib/python3.11/site-packages (from Jinja2<4,>=2.11->mlflow->-r requirements.txt (line 3)) (2.1.5)\n",
      "Requirement already satisfied: rich in /opt/homebrew/lib/python3.11/site-packages (from keras>=3.0.0->tensorflow->-r requirements.txt (line 8)) (13.7.1)\n",
      "Requirement already satisfied: namex in /opt/homebrew/lib/python3.11/site-packages (from keras>=3.0.0->tensorflow->-r requirements.txt (line 8)) (0.0.8)\n",
      "Requirement already satisfied: optree in /opt/homebrew/lib/python3.11/site-packages (from keras>=3.0.0->tensorflow->-r requirements.txt (line 8)) (0.11.0)\n",
      "Requirement already satisfied: contourpy>=1.0.1 in /opt/homebrew/lib/python3.11/site-packages (from matplotlib<4->mlflow->-r requirements.txt (line 3)) (1.2.1)\n",
      "Requirement already satisfied: cycler>=0.10 in /opt/homebrew/lib/python3.11/site-packages (from matplotlib<4->mlflow->-r requirements.txt (line 3)) (0.12.1)\n",
      "Requirement already satisfied: fonttools>=4.22.0 in /opt/homebrew/lib/python3.11/site-packages (from matplotlib<4->mlflow->-r requirements.txt (line 3)) (4.51.0)\n",
      "Requirement already satisfied: kiwisolver>=1.3.1 in /opt/homebrew/lib/python3.11/site-packages (from matplotlib<4->mlflow->-r requirements.txt (line 3)) (1.4.5)\n",
      "Requirement already satisfied: pillow>=8 in /opt/homebrew/lib/python3.11/site-packages (from matplotlib<4->mlflow->-r requirements.txt (line 3)) (10.3.0)\n",
      "Requirement already satisfied: pyparsing>=2.3.1 in /opt/homebrew/lib/python3.11/site-packages (from matplotlib<4->mlflow->-r requirements.txt (line 3)) (3.1.2)\n",
      "Requirement already satisfied: charset-normalizer<4,>=2 in /opt/homebrew/lib/python3.11/site-packages (from requests<3,>=2.17.3->mlflow-skinny==2.17.0->mlflow->-r requirements.txt (line 3)) (3.3.2)\n",
      "Requirement already satisfied: idna<4,>=2.5 in /opt/homebrew/lib/python3.11/site-packages (from requests<3,>=2.17.3->mlflow-skinny==2.17.0->mlflow->-r requirements.txt (line 3)) (3.7)\n",
      "Requirement already satisfied: joblib>=1.2.0 in /opt/homebrew/lib/python3.11/site-packages (from scikit-learn<2->mlflow->-r requirements.txt (line 3)) (1.4.2)\n",
      "Requirement already satisfied: threadpoolctl>=2.0.0 in /opt/homebrew/lib/python3.11/site-packages (from scikit-learn<2->mlflow->-r requirements.txt (line 3)) (3.5.0)\n",
      "Requirement already satisfied: tensorboard-data-server<0.8.0,>=0.7.0 in /opt/homebrew/lib/python3.11/site-packages (from tensorboard<2.17,>=2.16->tensorflow->-r requirements.txt (line 8)) (0.7.2)\n",
      "Requirement already satisfied: google-auth~=2.0 in /opt/homebrew/lib/python3.11/site-packages (from databricks-sdk<1,>=0.20.0->mlflow-skinny==2.17.0->mlflow->-r requirements.txt (line 3)) (2.35.0)\n",
      "Requirement already satisfied: gitdb<5,>=4.0.1 in /opt/homebrew/lib/python3.11/site-packages (from gitpython<4,>=3.1.9->mlflow-skinny==2.17.0->mlflow->-r requirements.txt (line 3)) (4.0.11)\n",
      "Requirement already satisfied: zipp>=0.5 in /opt/homebrew/lib/python3.11/site-packages (from importlib-metadata!=4.7.0,<9,>=3.7.0->mlflow-skinny==2.17.0->mlflow->-r requirements.txt (line 3)) (3.20.2)\n",
      "Requirement already satisfied: deprecated>=1.2.6 in /opt/homebrew/lib/python3.11/site-packages (from opentelemetry-api<3,>=1.9.0->mlflow-skinny==2.17.0->mlflow->-r requirements.txt (line 3)) (1.2.14)\n",
      "Requirement already satisfied: opentelemetry-semantic-conventions==0.48b0 in /opt/homebrew/lib/python3.11/site-packages (from opentelemetry-sdk<3,>=1.9.0->mlflow-skinny==2.17.0->mlflow->-r requirements.txt (line 3)) (0.48b0)\n",
      "Requirement already satisfied: markdown-it-py>=2.2.0 in /opt/homebrew/lib/python3.11/site-packages (from rich->keras>=3.0.0->tensorflow->-r requirements.txt (line 8)) (3.0.0)\n",
      "Requirement already satisfied: pygments<3.0.0,>=2.13.0 in /Users/benediktfassian/Library/Python/3.11/lib/python/site-packages (from rich->keras>=3.0.0->tensorflow->-r requirements.txt (line 8)) (2.18.0)\n",
      "Requirement already satisfied: smmap<6,>=3.0.1 in /opt/homebrew/lib/python3.11/site-packages (from gitdb<5,>=4.0.1->gitpython<4,>=3.1.9->mlflow-skinny==2.17.0->mlflow->-r requirements.txt (line 3)) (5.0.1)\n",
      "Requirement already satisfied: pyasn1-modules>=0.2.1 in /opt/homebrew/lib/python3.11/site-packages (from google-auth~=2.0->databricks-sdk<1,>=0.20.0->mlflow-skinny==2.17.0->mlflow->-r requirements.txt (line 3)) (0.4.1)\n",
      "Requirement already satisfied: rsa<5,>=3.1.4 in /opt/homebrew/lib/python3.11/site-packages (from google-auth~=2.0->databricks-sdk<1,>=0.20.0->mlflow-skinny==2.17.0->mlflow->-r requirements.txt (line 3)) (4.9)\n",
      "Requirement already satisfied: mdurl~=0.1 in /opt/homebrew/lib/python3.11/site-packages (from markdown-it-py>=2.2.0->rich->keras>=3.0.0->tensorflow->-r requirements.txt (line 8)) (0.1.2)\n",
      "Requirement already satisfied: pyasn1<0.7.0,>=0.4.6 in /opt/homebrew/lib/python3.11/site-packages (from pyasn1-modules>=0.2.1->google-auth~=2.0->databricks-sdk<1,>=0.20.0->mlflow-skinny==2.17.0->mlflow->-r requirements.txt (line 3)) (0.6.1)\n",
      "\n",
      "\u001b[1m[\u001b[0m\u001b[34;49mnotice\u001b[0m\u001b[1;39;49m]\u001b[0m\u001b[39;49m A new release of pip is available: \u001b[0m\u001b[31;49m24.1.2\u001b[0m\u001b[39;49m -> \u001b[0m\u001b[32;49m24.3.1\u001b[0m\n",
      "\u001b[1m[\u001b[0m\u001b[34;49mnotice\u001b[0m\u001b[1;39;49m]\u001b[0m\u001b[39;49m To update, run: \u001b[0m\u001b[32;49mpython3.11 -m pip install --upgrade pip\u001b[0m\n"
     ]
    }
   ],
   "source": [
    "! pip install -r requirements.txt"
   ]
  },
  {
   "cell_type": "markdown",
   "metadata": {},
   "source": [
    "### Import packages"
   ]
  },
  {
   "cell_type": "code",
   "execution_count": 2,
   "metadata": {},
   "outputs": [],
   "source": [
    "import numpy as np\n",
    "import matplotlib.pyplot as plt\n",
    "import gc\n",
    "import sys\n",
    "sys.path.append('../')"
   ]
  },
  {
   "cell_type": "markdown",
   "metadata": {},
   "source": [
    "## 2: Get the data ready\n",
    "In this step, the data will be imported and preprocessed.\n",
    "\n",
    "### Download Dataset\n",
    "The dataset has to be imported using the submodule `model/import_data.py`."
   ]
  },
  {
   "cell_type": "code",
   "execution_count": 5,
   "metadata": {},
   "outputs": [],
   "source": [
    "from create_dataset import create_dataset\n",
    "from helpers.s3 import enable_local_dev as s3_enable_local_dev\n",
    "from helpers.influx import enable_local_dev as influx_enable_local_dev\n",
    "\n",
    "# Enable local development (use local path instead of internal docker path)\n",
    "s3_enable_local_dev()\n",
    "influx_enable_local_dev()\n",
    "\n",
    "measurements = ['env_beige_default']\n",
    "img_size = (None, 75, 100, 3)\n",
    "\n",
    "dataset_id = \"5e1530ab-ba18-42fa-8897-590f6ea833e5\"\n",
    "images, labels, uids = create_dataset(measurements, img_size)\n",
    "max_input_value = 350\n",
    "\n",
    "del dataset_id\n",
    "_ = gc.collect()"
   ]
  },
  {
   "cell_type": "markdown",
   "metadata": {},
   "source": [
    "### Inspect dataset"
   ]
  },
  {
   "cell_type": "code",
   "execution_count": 6,
   "metadata": {},
   "outputs": [
    {
     "name": "stdout",
     "output_type": "stream",
     "text": [
      "Number of images:  528\n",
      "Labels from  1  to  249 \n",
      "\n"
     ]
    },
    {
     "data": {
      "image/png": "[encoded data removed]",
      "text/plain": [
       "<Figure size 640x480 with 1 Axes>"
      ]
     },
     "metadata": {},
     "output_type": "display_data"
    },
    {
     "data": {
      "image/png": "[encoded data removed]",
      "text/plain": [
       "<Figure size 640x480 with 1 Axes>"
      ]
     },
     "metadata": {},
     "output_type": "display_data"
    }
   ],
   "source": [
    "print(\"Number of images: \", images.shape[0])\n",
    "print(\"Labels from \", np.min(labels), \" to \", np.max(labels), \"\\n\")\n",
    "\n",
    "def plot_image(image, label):\n",
    "  plt.imshow(image)\n",
    "  plt.title(label)\n",
    "  plt.show()\n",
    "\n",
    "# Plot some images\n",
    "num_images_to_plot = 1\n",
    "for i in range(0, num_images_to_plot):\n",
    "  plot_image(images[i], f\"distance: {labels[i]}\")\n",
    "\n",
    "# Plot histogram of labels\n",
    "plt.hist(labels, edgecolor='black')  # Erstelle das Histogramm mit 10 Bins\n",
    "plt.title('Distribution of labels in dataset')\n",
    "plt.xlabel('Distance [mm]')\n",
    "plt.ylabel('n')\n",
    "plt.show()\n",
    "\n",
    "del num_images_to_plot, i\n",
    "_ = gc.collect()"
   ]
  },
  {
   "cell_type": "markdown",
   "metadata": {},
   "source": [
    "### Preprocess dataset\n",
    "The dataset is preprocessed using the submodule `model/preprocess_data.py`."
   ]
  },
  {
   "cell_type": "code",
   "execution_count": null,
   "metadata": {},
   "outputs": [],
   "source": [
    "from preprocess_data import preprocess_data\n",
    "\n",
    "test_split = 0.2\n",
    "random_state = 0\n",
    "train_x, train_y, train_uids, test_x, test_y, test_uids = \\\n",
    "    preprocess_data(images, labels, uids, test_split, random_state)\n",
    "\n",
    "del images, labels, uids\n",
    "_ = gc.collect()"
   ]
  },
  {
   "cell_type": "code",
   "execution_count": null,
   "metadata": {},
   "outputs": [],
   "source": [
    "print(\"\\nTrainingsdaten: \")\n",
    "mean = np.mean(train_x)\n",
    "std = np.std(train_x)\n",
    "max = np.max(train_x)\n",
    "min = np.min(train_x)\n",
    "print(f\"Anzahl: {train_x.shape[0]}\")\n",
    "print(f\"Durchschnittlicher Pixelwert: {mean:.2f}\")\n",
    "print(f\"Standardabweichung der Pixelwerte: {std:.2f}\")\n",
    "print(f\"Höchster Pixelwert: {max:.2f}\")\n",
    "print(f\"Niedrigster Pixelwert: {min:.2f}\")\n",
    "print(f\"Bildgröße (Höhe x Breite): {train_x.shape[1]} x {train_x.shape[2]}\")\n",
    "print(f\"Min Label: {np.min(train_y)}\")\n",
    "print(f\"Max Label: {np.max(train_y)}\")\n",
    "print(f\"Verschiedene Labels: {len(np.unique(train_y))}\")\n",
    "\n",
    "plot_image(train_x[0], f\"distance: {train_y[0]}\")\n",
    "\n",
    "print(\"\\nTestdaten: \")\n",
    "mean = np.mean(test_x)\n",
    "std = np.std(test_x)\n",
    "max = np.max(test_x)\n",
    "min = np.min(test_x)\n",
    "print(f\"Anzahl: {test_x.shape[0]}\")\n",
    "print(f\"Durchschnittlicher Pixelwert: {mean:.2f}\")\n",
    "print(f\"Standardabweichung der Pixelwerte: {std:.2f}\")\n",
    "print(f\"Höchster Pixelwert: {max:.2f}\")\n",
    "print(f\"Niedrigster Pixelwert: {min:.2f}\")\n",
    "print(f\"Bildgröße (Höhe x Breite): {test_x.shape[1]} x {test_x.shape[2]}\")\n",
    "print(f\"Min Label: {np.min(test_y)}\")\n",
    "print(f\"Max Label: {np.max(test_y)}\")\n",
    "print(f\"Verschiedene Labels: {len(np.unique(test_y))}\")\n",
    "\n",
    "plot_image(test_x[0], f\"distance: {test_y[0]}\")\n",
    "\n",
    "# Plot histogram of labels\n",
    "print(\"\\nLabel distribution in training and test set:\")\n",
    "plt.hist([train_y, test_y], label=['Train', 'Test'],\n",
    "          edgecolor='black', color=['blue', 'orange'])\n",
    "plt.title('Distribution of labels in dataset')\n",
    "plt.xlabel('Distance [mm]')\n",
    "plt.ylabel('n')\n",
    "plt.legend()\n",
    "plt.show()\n",
    "\n",
    "del mean, min, max, std\n",
    "_ = gc.collect()"
   ]
  },
  {
   "cell_type": "markdown",
   "metadata": {},
   "source": [
    "## 3: Model\n",
    "\n",
    "### Create model\n",
    "The model is created using `model/create_model.py`"
   ]
  },
  {
   "cell_type": "code",
   "execution_count": null,
   "metadata": {},
   "outputs": [],
   "source": [
    "from create_model import create_model\n",
    "\n",
    "model = create_model(test_x.shape, dropout=0.2, use_variation=None)"
   ]
  },
  {
   "cell_type": "markdown",
   "metadata": {},
   "source": [
    "### Inspect model"
   ]
  },
  {
   "cell_type": "code",
   "execution_count": null,
   "metadata": {},
   "outputs": [],
   "source": [
    "model.summary()"
   ]
  },
  {
   "cell_type": "markdown",
   "metadata": {},
   "source": [
    "Optional: Plot model"
   ]
  },
  {
   "cell_type": "code",
   "execution_count": null,
   "metadata": {},
   "outputs": [],
   "source": [
    "from keras.utils import plot_model  # type: ignore\n",
    "plot_model(model, show_shapes=True, show_layer_names=True)"
   ]
  },
  {
   "cell_type": "markdown",
   "metadata": {},
   "source": [
    "### Model training\n",
    "The model is trained using `model_fit_model.py`\n",
    "This should ideally be done using the workflow."
   ]
  },
  {
   "cell_type": "code",
   "execution_count": null,
   "metadata": {},
   "outputs": [],
   "source": [
    "from fit_model import fit_model\n",
    "\n",
    "history = fit_model(\n",
    "              model, train_x, train_y,\n",
    "              optimizer='adam',\n",
    "              loss=\"mean_squared_error\",\n",
    "              metrics=['mae'],\n",
    "              epochs=50,\n",
    "              batch_size=128\n",
    "              )"
   ]
  },
  {
   "cell_type": "code",
   "execution_count": null,
   "metadata": {},
   "outputs": [],
   "source": [
    "print(f\"Final loss: {history.history['loss'][-1]:.4f}\")\n",
    "print(f\"Final accuracy: {history.history['mae'][-1]:.4f}\")\n",
    "\n",
    "print(history.history)\n",
    "\n",
    "# Plot training loss\n",
    "plt.figure(1)\n",
    "plt.plot(history.history['loss'])\n",
    "plt.title('Training Loss')\n",
    "plt.xlabel('Epopch')\n",
    "plt.ylabel('Loss')\n",
    "\n",
    "# Plot training accuracy\n",
    "plt.figure(2)\n",
    "plt.plot(history.history['mae'])\n",
    "plt.title('Training Mean Average Error')\n",
    "plt.xlabel('Epoch')\n",
    "plt.ylabel('MAE')\n",
    "\n",
    "plt.show()"
   ]
  },
  {
   "cell_type": "markdown",
   "metadata": {},
   "source": [
    "### Evaluate model\n",
    "The model is evaluated using `model/evaluate_model.py`"
   ]
  },
  {
   "cell_type": "code",
   "execution_count": null,
   "metadata": {},
   "outputs": [],
   "source": [
    "from evaluate_model import evaluate_model\n",
    "\n",
    "test_loss, test_mae= evaluate_model(model, test_x, test_y)\n",
    "\n",
    "print(f'Test loss: {test_loss:.4f}')\n",
    "print(f'Test accuracy: {test_mae:.4f}')"
   ]
  },
  {
   "cell_type": "markdown",
   "metadata": {},
   "source": [
    "#### Perform random predictions on the test set"
   ]
  },
  {
   "cell_type": "code",
   "execution_count": null,
   "metadata": {},
   "outputs": [],
   "source": [
    "from random import randint\n",
    "\n",
    "i = randint(0, test_x.shape[0])\n",
    "img = test_x[i:i+1]\n",
    "prediction = model.predict(img)\n",
    "prediction_transformed = int(prediction[0][0]*max_input_value)\n",
    "label_transformed = int(test_y[i]*max_input_value)\n",
    "print(\"Prediction:\", prediction_transformed)\n",
    "print(\"Label:\", label_transformed)\n",
    "\n",
    "plot_image(test_x[i], f\"Prediction: {prediction_transformed}, Label: {label_transformed}\")"
   ]
  },
  {
   "cell_type": "markdown",
   "metadata": {},
   "source": [
    "#### Get predictions with difference to label > threshold [mm]"
   ]
  },
  {
   "cell_type": "code",
   "execution_count": null,
   "metadata": {},
   "outputs": [],
   "source": [
    "from tqdm import tqdm\n",
    "\n",
    "threshold = 20\n",
    "\n",
    "\n",
    "def predictOnDataset(X):\n",
    "    print(\"Predicting dataset, please wait ...\\n\")\n",
    "    predictions = np.zeros((len(X)), dtype=float)\n",
    "    for i in tqdm(range(X.shape[0]), desc=\"Progress: \", ncols=100, bar_format='{l_bar}{bar}| {n_fmt}/{total_fmt} images predicted'):\n",
    "        prediction = model.predict(X[i:i+1], verbose = 0)\n",
    "        predictions[i] = prediction[0][0]\n",
    "    print(\"\\nPredicted labels von \", np.min(predictions), \" bis \", np.max(predictions))\n",
    "\n",
    "    return predictions\n",
    "\n",
    "\n",
    "def getOutliers(labels, predictions, threshold):\n",
    "# Filter predictions wich are to far away from the labels\n",
    "    outlier_image_idices = np.array([], dtype=np.int32)\n",
    "    for i, label in enumerate(labels):\n",
    "        if abs(predictions[i] - label) > threshold:\n",
    "            outlier_image_idices = np.append(outlier_image_idices, i)\n",
    "    print(\"Number of outliers: \", outlier_image_idices.shape[0], \" = \", len(outlier_image_idices)/len(labels)*100, \"%\")\n",
    "\n",
    "    return outlier_image_idices\n",
    "\n",
    "\n",
    "predictions = predictOnDataset(test_x)\n",
    "predictions_mm = (predictions*max_input_value).astype(int)\n",
    "labels_mm = (test_y*max_input_value).astype(int)\n",
    "outliers = getOutliers(labels_mm, predictions_mm, threshold)"
   ]
  },
  {
   "cell_type": "markdown",
   "metadata": {},
   "source": [
    "#### Plot outlier predictions"
   ]
  },
  {
   "cell_type": "code",
   "execution_count": null,
   "metadata": {},
   "outputs": [],
   "source": [
    "for outlier in outliers:\n",
    "    plot_image(test_x[outlier], f\"Prediction: {predictions_mm[outlier]}, Label: {labels_mm[outlier]}\")"
   ]
  },
  {
   "cell_type": "markdown",
   "metadata": {},
   "source": [
    "### Save model"
   ]
  },
  {
   "cell_type": "code",
   "execution_count": null,
   "metadata": {},
   "outputs": [],
   "source": [
    "model.save('model.keras')"
   ]
  }
 ],
 "metadata": {
  "kernelspec": {
   "display_name": "Python 3",
   "language": "python",
   "name": "python3"
  },
  "language_info": {
   "codemirror_mode": {
    "name": "ipython",
    "version": 3
   },
   "file_extension": ".py",
   "mimetype": "text/x-python",
   "name": "python",
   "nbconvert_exporter": "python",
   "pygments_lexer": "ipython3",
   "version": "3.11.9"
  }
 },
 "nbformat": 4,
 "nbformat_minor": 2
}
